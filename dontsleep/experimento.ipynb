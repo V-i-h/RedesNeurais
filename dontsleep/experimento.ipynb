{
 "cells": [
  {
   "cell_type": "markdown",
   "metadata": {},
   "source": [
    "Aplicação de Redes Neurais - Visão Computacional "
   ]
  },
  {
   "cell_type": "markdown",
   "metadata": {},
   "source": [
    "## Problema\n"
   ]
  },
  {
   "cell_type": "markdown",
   "metadata": {},
   "source": [
    "- Pela lei brasileira de segurança no trânsito é proibido dirigir com sonolência"
   ]
  },
  {
   "cell_type": "markdown",
   "metadata": {},
   "source": [
    "## Solução"
   ]
  },
  {
   "cell_type": "markdown",
   "metadata": {},
   "source": [
    "- Implementar uma inteligência artificial\n",
    "- Criar um projeto de aplicação de redes neurais - Visão   Computacional"
   ]
  },
  {
   "cell_type": "markdown",
   "metadata": {},
   "source": [
    "## As tecnologias\n"
   ]
  },
  {
   "cell_type": "markdown",
   "metadata": {},
   "source": [
    "- Linguagem de Programação Python \n",
    "- Biblioteca OpenCV\n",
    "- Media Pipe"
   ]
  },
  {
   "cell_type": "markdown",
   "metadata": {},
   "source": [
    "## Equipamentos "
   ]
  },
  {
   "cell_type": "markdown",
   "metadata": {},
   "source": [
    "- Camera 0, Camera 1 ou outras Cameras\n",
    "- Camera Escolhida Logitech N231    "
   ]
  },
  {
   "cell_type": "markdown",
   "metadata": {},
   "source": [
    "## Explicando as Tecnologias"
   ]
  },
  {
   "cell_type": "markdown",
   "metadata": {},
   "source": [
    "- A biblioteca OpenCV - para tratar os dados visuais\n",
    "- A biblioteca MediaPipe - para fazer o reconhecimento da face\n",
    "- a biblioteca Numpy - para cálculos matemáticos"
   ]
  },
  {
   "cell_type": "markdown",
   "metadata": {},
   "source": [
    "## Instalação das bibliotecas"
   ]
  },
  {
   "cell_type": "code",
   "execution_count": 1,
   "metadata": {},
   "outputs": [
    {
     "name": "stdout",
     "output_type": "stream",
     "text": [
      "Collecting opencv-python\n",
      "  Downloading opencv_python-4.10.0.84-cp37-abi3-win_amd64.whl.metadata (20 kB)\n",
      "Collecting numpy>=1.21.2 (from opencv-python)\n",
      "  Using cached numpy-2.1.2-cp312-cp312-win_amd64.whl.metadata (59 kB)\n",
      "Downloading opencv_python-4.10.0.84-cp37-abi3-win_amd64.whl (38.8 MB)\n",
      "   ---------------------------------------- 0.0/38.8 MB ? eta -:--:--\n",
      "   - -------------------------------------- 1.6/38.8 MB 9.4 MB/s eta 0:00:04\n",
      "   ---- ----------------------------------- 4.2/38.8 MB 11.4 MB/s eta 0:00:04\n",
      "   ------ --------------------------------- 6.6/38.8 MB 11.5 MB/s eta 0:00:03\n",
      "   --------- ------------------------------ 8.9/38.8 MB 11.5 MB/s eta 0:00:03\n",
      "   ----------- ---------------------------- 11.3/38.8 MB 11.4 MB/s eta 0:00:03\n",
      "   -------------- ------------------------- 13.6/38.8 MB 11.4 MB/s eta 0:00:03\n",
      "   --------------- ------------------------ 15.5/38.8 MB 11.2 MB/s eta 0:00:03\n",
      "   ----------------- ---------------------- 17.3/38.8 MB 10.9 MB/s eta 0:00:02\n",
      "   ------------------- -------------------- 19.4/38.8 MB 10.7 MB/s eta 0:00:02\n",
      "   ---------------------- ----------------- 21.5/38.8 MB 10.6 MB/s eta 0:00:02\n",
      "   ------------------------ --------------- 23.6/38.8 MB 10.7 MB/s eta 0:00:02\n",
      "   -------------------------- ------------- 26.0/38.8 MB 10.7 MB/s eta 0:00:02\n",
      "   ----------------------------- ---------- 28.3/38.8 MB 10.8 MB/s eta 0:00:01\n",
      "   ------------------------------- -------- 30.7/38.8 MB 10.8 MB/s eta 0:00:01\n",
      "   --------------------------------- ------ 32.5/38.8 MB 10.7 MB/s eta 0:00:01\n",
      "   ----------------------------------- ---- 34.3/38.8 MB 10.6 MB/s eta 0:00:01\n",
      "   ------------------------------------- -- 36.4/38.8 MB 10.6 MB/s eta 0:00:01\n",
      "   ---------------------------------------  38.5/38.8 MB 10.6 MB/s eta 0:00:01\n",
      "   ---------------------------------------- 38.8/38.8 MB 10.3 MB/s eta 0:00:00\n",
      "Using cached numpy-2.1.2-cp312-cp312-win_amd64.whl (12.6 MB)\n",
      "Installing collected packages: numpy, opencv-python\n",
      "Successfully installed numpy-2.1.2 opencv-python-4.10.0.84\n"
     ]
    }
   ],
   "source": [
    "! pip install opencv-python"
   ]
  }
 ],
 "metadata": {
  "kernelspec": {
   "display_name": ".venv",
   "language": "python",
   "name": "python3"
  },
  "language_info": {
   "codemirror_mode": {
    "name": "ipython",
    "version": 3
   },
   "file_extension": ".py",
   "mimetype": "text/x-python",
   "name": "python",
   "nbconvert_exporter": "python",
   "pygments_lexer": "ipython3",
   "version": "3.12.5"
  }
 },
 "nbformat": 4,
 "nbformat_minor": 2
}
