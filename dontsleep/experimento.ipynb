{
 "cells": [
  {
   "cell_type": "markdown",
   "metadata": {},
   "source": [
    "Aplicação de Redes Neurais - Visão Computacional "
   ]
  },
  {
   "cell_type": "markdown",
   "metadata": {},
   "source": [
    "## Problema\n"
   ]
  },
  {
   "cell_type": "markdown",
   "metadata": {},
   "source": [
    "- Pela lei brasileira de segurança no trânsito é proibido dirigir com sonolência"
   ]
  },
  {
   "cell_type": "markdown",
   "metadata": {},
   "source": [
    "## Solução"
   ]
  },
  {
   "cell_type": "markdown",
   "metadata": {},
   "source": [
    "- Implementar uma inteligência artificial\n",
    "- Criar um projeto de aplicação de redes neurais - Visão   Computacional"
   ]
  },
  {
   "cell_type": "markdown",
   "metadata": {},
   "source": [
    "## As tecnologias\n"
   ]
  },
  {
   "cell_type": "markdown",
   "metadata": {},
   "source": [
    "- Linguagem de Programação Python \n",
    "- Biblioteca OpenCV\n",
    "- Media Pipe"
   ]
  },
  {
   "cell_type": "markdown",
   "metadata": {},
   "source": [
    "## Equipamentos "
   ]
  },
  {
   "cell_type": "markdown",
   "metadata": {},
   "source": [
    "- Camera 0, Camera 1 ou outras Cameras\n",
    "- Camera Escolhida Logitech N231    "
   ]
  },
  {
   "cell_type": "markdown",
   "metadata": {},
   "source": [
    "## Explicando as Tecnologias"
   ]
  },
  {
   "cell_type": "markdown",
   "metadata": {},
   "source": [
    "- A biblioteca OpenCV - para tratar os dados visuais\n",
    "- A biblioteca MediaPipe - para fazer o reconhecimento da face\n",
    "- a biblioteca Numpy - para cálculos matemáticos"
   ]
  },
  {
   "cell_type": "markdown",
   "metadata": {},
   "source": [
    "## Instalação das bibliotecas"
   ]
  },
  {
   "cell_type": "code",
   "execution_count": 1,
   "metadata": {},
   "outputs": [
    {
     "name": "stdout",
     "output_type": "stream",
     "text": [
      "Collecting opencv-python\n",
      "  Downloading opencv_python-4.10.0.84-cp37-abi3-win_amd64.whl.metadata (20 kB)\n",
      "Collecting numpy>=1.21.2 (from opencv-python)\n",
      "  Using cached numpy-2.1.2-cp312-cp312-win_amd64.whl.metadata (59 kB)\n",
      "Downloading opencv_python-4.10.0.84-cp37-abi3-win_amd64.whl (38.8 MB)\n",
      "   ---------------------------------------- 0.0/38.8 MB ? eta -:--:--\n",
      "   - -------------------------------------- 1.6/38.8 MB 9.4 MB/s eta 0:00:04\n",
      "   ---- ----------------------------------- 4.2/38.8 MB 11.4 MB/s eta 0:00:04\n",
      "   ------ --------------------------------- 6.6/38.8 MB 11.5 MB/s eta 0:00:03\n",
      "   --------- ------------------------------ 8.9/38.8 MB 11.5 MB/s eta 0:00:03\n",
      "   ----------- ---------------------------- 11.3/38.8 MB 11.4 MB/s eta 0:00:03\n",
      "   -------------- ------------------------- 13.6/38.8 MB 11.4 MB/s eta 0:00:03\n",
      "   --------------- ------------------------ 15.5/38.8 MB 11.2 MB/s eta 0:00:03\n",
      "   ----------------- ---------------------- 17.3/38.8 MB 10.9 MB/s eta 0:00:02\n",
      "   ------------------- -------------------- 19.4/38.8 MB 10.7 MB/s eta 0:00:02\n",
      "   ---------------------- ----------------- 21.5/38.8 MB 10.6 MB/s eta 0:00:02\n",
      "   ------------------------ --------------- 23.6/38.8 MB 10.7 MB/s eta 0:00:02\n",
      "   -------------------------- ------------- 26.0/38.8 MB 10.7 MB/s eta 0:00:02\n",
      "   ----------------------------- ---------- 28.3/38.8 MB 10.8 MB/s eta 0:00:01\n",
      "   ------------------------------- -------- 30.7/38.8 MB 10.8 MB/s eta 0:00:01\n",
      "   --------------------------------- ------ 32.5/38.8 MB 10.7 MB/s eta 0:00:01\n",
      "   ----------------------------------- ---- 34.3/38.8 MB 10.6 MB/s eta 0:00:01\n",
      "   ------------------------------------- -- 36.4/38.8 MB 10.6 MB/s eta 0:00:01\n",
      "   ---------------------------------------  38.5/38.8 MB 10.6 MB/s eta 0:00:01\n",
      "   ---------------------------------------- 38.8/38.8 MB 10.3 MB/s eta 0:00:00\n",
      "Using cached numpy-2.1.2-cp312-cp312-win_amd64.whl (12.6 MB)\n",
      "Installing collected packages: numpy, opencv-python\n",
      "Successfully installed numpy-2.1.2 opencv-python-4.10.0.84\n"
     ]
    }
   ],
   "source": [
    "! pip install opencv-python"
   ]
  },
  {
   "cell_type": "code",
   "execution_count": 2,
   "metadata": {},
   "outputs": [],
   "source": [
    "! pip freeze >> requirements.txt"
   ]
  },
  {
   "cell_type": "code",
   "execution_count": 3,
   "metadata": {},
   "outputs": [
    {
     "name": "stdout",
     "output_type": "stream",
     "text": [
      "Collecting mediapipe\n",
      "  Downloading mediapipe-0.10.14-cp312-cp312-win_amd64.whl.metadata (9.9 kB)\n",
      "Collecting absl-py (from mediapipe)\n",
      "  Downloading absl_py-2.1.0-py3-none-any.whl.metadata (2.3 kB)\n",
      "Collecting attrs>=19.1.0 (from mediapipe)\n",
      "  Using cached attrs-24.2.0-py3-none-any.whl.metadata (11 kB)\n",
      "Collecting flatbuffers>=2.0 (from mediapipe)\n",
      "  Downloading flatbuffers-24.3.25-py2.py3-none-any.whl.metadata (850 bytes)\n",
      "Collecting jax (from mediapipe)\n",
      "  Downloading jax-0.4.35-py3-none-any.whl.metadata (22 kB)\n",
      "Collecting jaxlib (from mediapipe)\n",
      "  Downloading jaxlib-0.4.35-cp312-cp312-win_amd64.whl.metadata (1.0 kB)\n",
      "Collecting matplotlib (from mediapipe)\n",
      "  Using cached matplotlib-3.9.2-cp312-cp312-win_amd64.whl.metadata (11 kB)\n",
      "Requirement already satisfied: numpy in c:\\vitória\\redesneurais\\.venv\\lib\\site-packages (from mediapipe) (2.1.2)\n",
      "Collecting opencv-contrib-python (from mediapipe)\n",
      "  Downloading opencv_contrib_python-4.10.0.84-cp37-abi3-win_amd64.whl.metadata (20 kB)\n",
      "Collecting protobuf<5,>=4.25.3 (from mediapipe)\n",
      "  Downloading protobuf-4.25.5-cp310-abi3-win_amd64.whl.metadata (541 bytes)\n",
      "Collecting sounddevice>=0.4.4 (from mediapipe)\n",
      "  Downloading sounddevice-0.5.1-py3-none-win_amd64.whl.metadata (1.4 kB)\n",
      "Collecting CFFI>=1.0 (from sounddevice>=0.4.4->mediapipe)\n",
      "  Downloading cffi-1.17.1-cp312-cp312-win_amd64.whl.metadata (1.6 kB)\n",
      "Collecting ml-dtypes>=0.4.0 (from jax->mediapipe)\n",
      "  Downloading ml_dtypes-0.5.0-cp312-cp312-win_amd64.whl.metadata (22 kB)\n",
      "Collecting opt-einsum (from jax->mediapipe)\n",
      "  Downloading opt_einsum-3.4.0-py3-none-any.whl.metadata (6.3 kB)\n",
      "Collecting scipy>=1.10 (from jax->mediapipe)\n",
      "  Using cached scipy-1.14.1-cp312-cp312-win_amd64.whl.metadata (60 kB)\n",
      "Collecting contourpy>=1.0.1 (from matplotlib->mediapipe)\n",
      "  Using cached contourpy-1.3.0-cp312-cp312-win_amd64.whl.metadata (5.4 kB)\n",
      "Collecting cycler>=0.10 (from matplotlib->mediapipe)\n",
      "  Using cached cycler-0.12.1-py3-none-any.whl.metadata (3.8 kB)\n",
      "Collecting fonttools>=4.22.0 (from matplotlib->mediapipe)\n",
      "  Using cached fonttools-4.54.1-cp312-cp312-win_amd64.whl.metadata (167 kB)\n",
      "Collecting kiwisolver>=1.3.1 (from matplotlib->mediapipe)\n",
      "  Using cached kiwisolver-1.4.7-cp312-cp312-win_amd64.whl.metadata (6.4 kB)\n",
      "Requirement already satisfied: packaging>=20.0 in c:\\vitória\\redesneurais\\.venv\\lib\\site-packages (from matplotlib->mediapipe) (24.1)\n",
      "Collecting pillow>=8 (from matplotlib->mediapipe)\n",
      "  Using cached pillow-11.0.0-cp312-cp312-win_amd64.whl.metadata (9.3 kB)\n",
      "Collecting pyparsing>=2.3.1 (from matplotlib->mediapipe)\n",
      "  Using cached pyparsing-3.2.0-py3-none-any.whl.metadata (5.0 kB)\n",
      "Requirement already satisfied: python-dateutil>=2.7 in c:\\vitória\\redesneurais\\.venv\\lib\\site-packages (from matplotlib->mediapipe) (2.9.0.post0)\n",
      "Collecting pycparser (from CFFI>=1.0->sounddevice>=0.4.4->mediapipe)\n",
      "  Downloading pycparser-2.22-py3-none-any.whl.metadata (943 bytes)\n",
      "Requirement already satisfied: six>=1.5 in c:\\vitória\\redesneurais\\.venv\\lib\\site-packages (from python-dateutil>=2.7->matplotlib->mediapipe) (1.16.0)\n",
      "Downloading mediapipe-0.10.14-cp312-cp312-win_amd64.whl (50.8 MB)\n",
      "   ---------------------------------------- 0.0/50.8 MB ? eta -:--:--\n",
      "    --------------------------------------- 0.8/50.8 MB 4.8 MB/s eta 0:00:11\n",
      "   - -------------------------------------- 2.1/50.8 MB 5.9 MB/s eta 0:00:09\n",
      "   --- ------------------------------------ 4.5/50.8 MB 7.9 MB/s eta 0:00:06\n",
      "   ----- ---------------------------------- 6.8/50.8 MB 8.9 MB/s eta 0:00:05\n",
      "   ------- -------------------------------- 9.2/50.8 MB 9.5 MB/s eta 0:00:05\n",
      "   --------- ------------------------------ 11.5/50.8 MB 9.9 MB/s eta 0:00:04\n",
      "   ---------- ----------------------------- 13.6/50.8 MB 10.1 MB/s eta 0:00:04\n",
      "   ------------ --------------------------- 15.7/50.8 MB 9.9 MB/s eta 0:00:04\n",
      "   -------------- ------------------------- 18.1/50.8 MB 10.1 MB/s eta 0:00:04\n",
      "   --------------- ------------------------ 20.2/50.8 MB 10.2 MB/s eta 0:00:04\n",
      "   ----------------- ---------------------- 22.5/50.8 MB 10.3 MB/s eta 0:00:03\n",
      "   ------------------- -------------------- 24.9/50.8 MB 10.4 MB/s eta 0:00:03\n",
      "   --------------------- ------------------ 27.3/50.8 MB 10.5 MB/s eta 0:00:03\n",
      "   ----------------------- ---------------- 29.6/50.8 MB 10.6 MB/s eta 0:00:03\n",
      "   ------------------------- -------------- 32.0/50.8 MB 10.6 MB/s eta 0:00:02\n",
      "   --------------------------- ------------ 34.3/50.8 MB 10.7 MB/s eta 0:00:02\n",
      "   ---------------------------- ----------- 36.7/50.8 MB 10.7 MB/s eta 0:00:02\n",
      "   ------------------------------ --------- 38.8/50.8 MB 10.8 MB/s eta 0:00:02\n",
      "   -------------------------------- ------- 41.2/50.8 MB 10.8 MB/s eta 0:00:01\n",
      "   ---------------------------------- ----- 43.3/50.8 MB 10.8 MB/s eta 0:00:01\n",
      "   ----------------------------------- ---- 45.6/50.8 MB 10.8 MB/s eta 0:00:01\n",
      "   ------------------------------------- -- 48.2/50.8 MB 10.8 MB/s eta 0:00:01\n",
      "   ---------------------------------------  50.3/50.8 MB 10.9 MB/s eta 0:00:01\n",
      "   ---------------------------------------  50.6/50.8 MB 10.8 MB/s eta 0:00:01\n",
      "   ---------------------------------------  50.6/50.8 MB 10.8 MB/s eta 0:00:01\n",
      "   ---------------------------------------  50.6/50.8 MB 10.8 MB/s eta 0:00:01\n",
      "   ---------------------------------------- 50.8/50.8 MB 9.3 MB/s eta 0:00:00\n",
      "Using cached attrs-24.2.0-py3-none-any.whl (63 kB)\n",
      "Downloading flatbuffers-24.3.25-py2.py3-none-any.whl (26 kB)\n",
      "Downloading protobuf-4.25.5-cp310-abi3-win_amd64.whl (413 kB)\n",
      "Downloading sounddevice-0.5.1-py3-none-win_amd64.whl (363 kB)\n",
      "Downloading absl_py-2.1.0-py3-none-any.whl (133 kB)\n",
      "Downloading jax-0.4.35-py3-none-any.whl (2.2 MB)\n",
      "   ---------------------------------------- 0.0/2.2 MB ? eta -:--:--\n",
      "   ---------------------------------------- 2.2/2.2 MB 10.1 MB/s eta 0:00:00\n",
      "Downloading jaxlib-0.4.35-cp312-cp312-win_amd64.whl (56.6 MB)\n",
      "   ---------------------------------------- 0.0/56.6 MB ? eta -:--:--\n",
      "   - -------------------------------------- 2.4/56.6 MB 11.2 MB/s eta 0:00:05\n",
      "   --- ------------------------------------ 4.5/56.6 MB 11.2 MB/s eta 0:00:05\n",
      "   ---- ----------------------------------- 6.8/56.6 MB 11.3 MB/s eta 0:00:05\n",
      "   ------ --------------------------------- 9.2/56.6 MB 11.4 MB/s eta 0:00:05\n",
      "   -------- ------------------------------- 11.5/56.6 MB 11.5 MB/s eta 0:00:04\n",
      "   ---------- ----------------------------- 14.2/56.6 MB 11.5 MB/s eta 0:00:04\n",
      "   ----------- ---------------------------- 16.5/56.6 MB 11.6 MB/s eta 0:00:04\n",
      "   ------------- -------------------------- 18.9/56.6 MB 11.6 MB/s eta 0:00:04\n",
      "   --------------- ------------------------ 21.2/56.6 MB 11.5 MB/s eta 0:00:04\n",
      "   ---------------- ----------------------- 23.6/56.6 MB 11.6 MB/s eta 0:00:03\n",
      "   ------------------ --------------------- 26.0/56.6 MB 11.6 MB/s eta 0:00:03\n",
      "   -------------------- ------------------- 28.3/56.6 MB 11.6 MB/s eta 0:00:03\n",
      "   --------------------- ------------------ 30.7/56.6 MB 11.6 MB/s eta 0:00:03\n",
      "   ----------------------- ---------------- 33.0/56.6 MB 11.6 MB/s eta 0:00:03\n",
      "   ------------------------- -------------- 35.4/56.6 MB 11.6 MB/s eta 0:00:02\n",
      "   -------------------------- ------------- 37.5/56.6 MB 11.5 MB/s eta 0:00:02\n",
      "   --------------------------- ------------ 39.3/56.6 MB 11.3 MB/s eta 0:00:02\n",
      "   ---------------------------- ----------- 40.9/56.6 MB 11.1 MB/s eta 0:00:02\n",
      "   ------------------------------ --------- 42.7/56.6 MB 11.0 MB/s eta 0:00:02\n",
      "   ------------------------------- -------- 44.6/56.6 MB 10.9 MB/s eta 0:00:02\n",
      "   -------------------------------- ------- 46.7/56.6 MB 10.9 MB/s eta 0:00:01\n",
      "   ---------------------------------- ----- 48.8/56.6 MB 10.9 MB/s eta 0:00:01\n",
      "   ------------------------------------ --- 51.1/56.6 MB 10.9 MB/s eta 0:00:01\n",
      "   ------------------------------------- -- 53.2/56.6 MB 10.9 MB/s eta 0:00:01\n",
      "   ---------------------------------------  55.8/56.6 MB 10.9 MB/s eta 0:00:01\n",
      "   ---------------------------------------  56.4/56.6 MB 10.9 MB/s eta 0:00:01\n",
      "   ---------------------------------------- 56.6/56.6 MB 10.5 MB/s eta 0:00:00\n",
      "Using cached matplotlib-3.9.2-cp312-cp312-win_amd64.whl (7.8 MB)\n",
      "Downloading opencv_contrib_python-4.10.0.84-cp37-abi3-win_amd64.whl (45.5 MB)\n",
      "   ---------------------------------------- 0.0/45.5 MB ? eta -:--:--\n",
      "   -- ------------------------------------- 2.4/45.5 MB 12.2 MB/s eta 0:00:04\n",
      "   ---- ----------------------------------- 4.7/45.5 MB 11.4 MB/s eta 0:00:04\n",
      "   ------ --------------------------------- 7.1/45.5 MB 11.8 MB/s eta 0:00:04\n",
      "   -------- ------------------------------- 9.4/45.5 MB 11.7 MB/s eta 0:00:04\n",
      "   ---------- ----------------------------- 12.1/45.5 MB 11.6 MB/s eta 0:00:03\n",
      "   ------------ --------------------------- 14.2/45.5 MB 11.7 MB/s eta 0:00:03\n",
      "   -------------- ------------------------- 16.8/45.5 MB 11.6 MB/s eta 0:00:03\n",
      "   ---------------- ----------------------- 19.1/45.5 MB 11.7 MB/s eta 0:00:03\n",
      "   ------------------ --------------------- 21.5/45.5 MB 11.7 MB/s eta 0:00:03\n",
      "   -------------------- ------------------- 23.9/45.5 MB 11.7 MB/s eta 0:00:02\n",
      "   ----------------------- ---------------- 26.2/45.5 MB 11.6 MB/s eta 0:00:02\n",
      "   ------------------------- -------------- 28.6/45.5 MB 11.6 MB/s eta 0:00:02\n",
      "   -------------------------- ------------- 30.4/45.5 MB 11.4 MB/s eta 0:00:02\n",
      "   ---------------------------- ----------- 32.2/45.5 MB 11.2 MB/s eta 0:00:02\n",
      "   ----------------------------- ---------- 34.1/45.5 MB 11.2 MB/s eta 0:00:02\n",
      "   ------------------------------- -------- 36.2/45.5 MB 11.1 MB/s eta 0:00:01\n",
      "   --------------------------------- ------ 38.3/45.5 MB 11.0 MB/s eta 0:00:01\n",
      "   ----------------------------------- ---- 40.6/45.5 MB 11.0 MB/s eta 0:00:01\n",
      "   ------------------------------------- -- 43.0/45.5 MB 11.0 MB/s eta 0:00:01\n",
      "   ---------------------------------------  45.1/45.5 MB 11.0 MB/s eta 0:00:01\n",
      "   ---------------------------------------- 45.5/45.5 MB 10.7 MB/s eta 0:00:00\n",
      "Downloading cffi-1.17.1-cp312-cp312-win_amd64.whl (181 kB)\n",
      "Using cached contourpy-1.3.0-cp312-cp312-win_amd64.whl (218 kB)\n",
      "Using cached cycler-0.12.1-py3-none-any.whl (8.3 kB)\n",
      "Using cached fonttools-4.54.1-cp312-cp312-win_amd64.whl (2.2 MB)\n",
      "Using cached kiwisolver-1.4.7-cp312-cp312-win_amd64.whl (55 kB)\n",
      "Downloading ml_dtypes-0.5.0-cp312-cp312-win_amd64.whl (213 kB)\n",
      "Using cached pillow-11.0.0-cp312-cp312-win_amd64.whl (2.6 MB)\n",
      "Using cached pyparsing-3.2.0-py3-none-any.whl (106 kB)\n",
      "Using cached scipy-1.14.1-cp312-cp312-win_amd64.whl (44.5 MB)\n",
      "Downloading opt_einsum-3.4.0-py3-none-any.whl (71 kB)\n",
      "Downloading pycparser-2.22-py3-none-any.whl (117 kB)\n",
      "Installing collected packages: flatbuffers, scipy, pyparsing, pycparser, protobuf, pillow, opt-einsum, opencv-contrib-python, ml-dtypes, kiwisolver, fonttools, cycler, contourpy, attrs, absl-py, matplotlib, jaxlib, CFFI, sounddevice, jax, mediapipe\n",
      "Successfully installed CFFI-1.17.1 absl-py-2.1.0 attrs-24.2.0 contourpy-1.3.0 cycler-0.12.1 flatbuffers-24.3.25 fonttools-4.54.1 jax-0.4.35 jaxlib-0.4.35 kiwisolver-1.4.7 matplotlib-3.9.2 mediapipe-0.10.14 ml-dtypes-0.5.0 opencv-contrib-python-4.10.0.84 opt-einsum-3.4.0 pillow-11.0.0 protobuf-4.25.5 pycparser-2.22 pyparsing-3.2.0 scipy-1.14.1 sounddevice-0.5.1\n"
     ]
    }
   ],
   "source": [
    "! pip install mediapipe"
   ]
  }
 ],
 "metadata": {
  "kernelspec": {
   "display_name": ".venv",
   "language": "python",
   "name": "python3"
  },
  "language_info": {
   "codemirror_mode": {
    "name": "ipython",
    "version": 3
   },
   "file_extension": ".py",
   "mimetype": "text/x-python",
   "name": "python",
   "nbconvert_exporter": "python",
   "pygments_lexer": "ipython3",
   "version": "3.12.5"
  }
 },
 "nbformat": 4,
 "nbformat_minor": 2
}
